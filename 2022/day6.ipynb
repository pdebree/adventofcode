{
 "cells": [
  {
   "cell_type": "markdown",
   "id": "09a27995",
   "metadata": {},
   "source": [
    "# Advent of Code - Day 6: Tuning Trouble"
   ]
  },
  {
   "cell_type": "markdown",
   "id": "bd20826a",
   "metadata": {},
   "source": [
    "## Question 1\n",
    "\n",
    "The preparations are finally complete; you and the Elves leave camp on foot and begin to make your way toward the star fruit grove.\n",
    "\n",
    "As you move through the dense undergrowth, one of the Elves gives you a handheld device. He says that it has many fancy features, but the most important one to set up right now is the communication system.\n",
    "\n",
    "However, because he's heard you have significant experience dealing with signal-based systems, he convinced the other Elves that it would be okay to give you their one malfunctioning device - surely you'll have no problem fixing it.\n",
    "\n",
    "As if inspired by comedic timing, the device emits a few colorful sparks.\n",
    "\n",
    "To be able to communicate with the Elves, the device needs to lock on to their signal. The signal is a series of seemingly-random characters that the device receives one at a time.\n",
    "\n",
    "To fix the communication system, you need to add a subroutine to the device that detects a start-of-packet marker in the datastream. In the protocol being used by the Elves, the start of a packet is indicated by a sequence of four characters that are all different.\n",
    "\n",
    "The device will send your subroutine a datastream buffer (your puzzle input); your subroutine needs to identify the first position where the four most recently received characters were all different. Specifically, it needs to report the number of characters from the beginning of the buffer to the end of the first such four-character marker.\n",
    "\n",
    "For example, suppose you receive the following datastream buffer:\n",
    "\n",
    "mjqjpqmgbljsphdztnvjfqwrcgsmlb\\\n",
    "After the first three characters (mjq) have been received, there haven't been enough characters received yet to find the marker. The first time a marker could occur is after the fourth character is received, making the most recent four characters mjqj. Because j is repeated, this isn't a marker.\n",
    "\n",
    "The first time a marker appears is after the seventh character arrives. Once it does, the last four characters received are jpqm, which are all different. In this case, your subroutine should report the value 7, because the first start-of-packet marker is complete after 7 characters have been processed.\n",
    "\n",
    "Here are a few more examples:\n",
    "\n",
    "bvwbjplbgvbhsrlpgdmjqwftvncz: first marker after character 5\\\n",
    "nppdvjthqldpwncqszvftbrmjlhg: first marker after character 6\\\n",
    "nznrnfrfntjfmvfwmzdfjlvtqnbhcprsg: first marker after character 10\\\n",
    "zcfzfwzzqfrljwzlrfnpqdbhtmscgvjw: first marker after character 11\\\n",
    "How many characters need to be processed before the first start-of-packet marker is detected?"
   ]
  },
  {
   "cell_type": "code",
   "execution_count": 1,
   "id": "58f774c8",
   "metadata": {},
   "outputs": [],
   "source": [
    "# read in the databuffer from a txt file to a single string\n",
    "buffer = open('data/datastreambuffer.txt', 'r').read()"
   ]
  },
  {
   "cell_type": "code",
   "execution_count": 26,
   "id": "8b2af7ed",
   "metadata": {},
   "outputs": [],
   "source": [
    "def unique_alphacode(string, length=4):\n",
    "    \"\"\"\n",
    "    Takes in a string and returns the number of characters that have to be checked to find\n",
    "    a sub-string (with the passed in length) that has all unique characters. The length of\n",
    "    the unique character string is passed into the length paramters.\n",
    "    \n",
    "    \n",
    "    Parameters\n",
    "    ----------\n",
    "    string: string\n",
    "                The string in which to look for unique characters\n",
    "                \n",
    "    length: int\n",
    "                The length of substring with unique characters to find\n",
    "                \n",
    "                \n",
    "    Returns\n",
    "    -------\n",
    "    The number of characters (to the end of the sub-string) to be checked to find a string\n",
    "    with unique characters. If none are found, a message stating this is printed. \n",
    "    \"\"\"\n",
    "    \n",
    "    for i in range(len(string)-length-1):\n",
    "        if len(set(list(string[i:i+length]))) == length:\n",
    "            return i+length\n",
    "    \n",
    "    else:\n",
    "        print(f\"No unique {length} character combination found\")\n",
    "        "
   ]
  },
  {
   "cell_type": "code",
   "execution_count": 27,
   "id": "913e1682",
   "metadata": {},
   "outputs": [
    {
     "data": {
      "text/plain": [
       "1757"
      ]
     },
     "execution_count": 27,
     "metadata": {},
     "output_type": "execute_result"
    }
   ],
   "source": [
    "unique_alphacode(buffer)"
   ]
  },
  {
   "cell_type": "markdown",
   "id": "0608b0b6",
   "metadata": {},
   "source": [
    "## Question 2 \n",
    "\n",
    "Your device's communication system is correctly detecting packets, but still isn't working. It looks like it also needs to look for messages.\n",
    "\n",
    "A start-of-message marker is just like a start-of-packet marker, except it consists of 14 distinct characters rather than 4.\n",
    "\n",
    "Here are the first positions of start-of-message markers for all of the above examples:\n",
    "\n",
    "mjqjpqmgbljsphdztnvjfqwrcgsmlb: first marker after character 19\n",
    "bvwbjplbgvbhsrlpgdmjqwftvncz: first marker after character 23\n",
    "nppdvjthqldpwncqszvftbrmjlhg: first marker after character 23\n",
    "nznrnfrfntjfmvfwmzdfjlvtqnbhcprsg: first marker after character 29\n",
    "zcfzfwzzqfrljwzlrfnpqdbhtmscgvjw: first marker after character 26\n",
    "How many characters need to be processed before the first start-of-message marker is detected?"
   ]
  },
  {
   "cell_type": "code",
   "execution_count": 28,
   "id": "4a92046f",
   "metadata": {},
   "outputs": [
    {
     "data": {
      "text/plain": [
       "2950"
      ]
     },
     "execution_count": 28,
     "metadata": {},
     "output_type": "execute_result"
    }
   ],
   "source": [
    "# we are going to use the same function as above, but alter it to look for 14 unique-character strings\n",
    "unique_alphacode(buffer, 14)"
   ]
  }
 ],
 "metadata": {
  "kernelspec": {
   "display_name": "Python 3 (ipykernel)",
   "language": "python",
   "name": "python3"
  },
  "language_info": {
   "codemirror_mode": {
    "name": "ipython",
    "version": 3
   },
   "file_extension": ".py",
   "mimetype": "text/x-python",
   "name": "python",
   "nbconvert_exporter": "python",
   "pygments_lexer": "ipython3",
   "version": "3.9.12"
  }
 },
 "nbformat": 4,
 "nbformat_minor": 5
}

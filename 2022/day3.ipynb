{
 "cells": [
  {
   "cell_type": "markdown",
   "id": "d768d585",
   "metadata": {},
   "source": [
    "# Advent of Code - Day 3: Rucksack Reorganization "
   ]
  },
  {
   "cell_type": "code",
   "execution_count": 1,
   "id": "892a7aef",
   "metadata": {},
   "outputs": [],
   "source": [
    "import numpy as np\n",
    "import pandas as pd "
   ]
  },
  {
   "cell_type": "markdown",
   "id": "2f5b5339",
   "metadata": {},
   "source": [
    "## Question 1\n",
    "\n",
    "One Elf has the important job of loading all of the rucksacks with supplies for the jungle journey. Unfortunately, that Elf didn't quite follow the packing instructions, and so a few items now need to be rearranged.\n",
    "\n",
    "Each rucksack has two large compartments. All items of a given type are meant to go into exactly one of the two compartments. The Elf that did the packing failed to follow this rule for exactly one item type per rucksack.\n",
    "\n",
    "The Elves have made a list of all of the items currently in each rucksack (your puzzle input), but they need your help finding the errors. Every item type is identified by a single lowercase or uppercase letter (that is, a and A refer to different types of items).\n",
    "\n",
    "The list of items for each rucksack is given as characters all on a single line. A given rucksack always has the same number of items in each of its two compartments, so the first half of the characters represent items in the first compartment, while the second half of the characters represent items in the second compartment.\n",
    "\n",
    "For example, suppose you have the following list of contents from six rucksacks:\n",
    "\n",
    "vJrwpWtwJgWrhcsFMMfFFhFp\\\n",
    "jqHRNqRjqzjGDLGLrsFMfFZSrLrFZsSL\\\n",
    "PmmdzqPrVvPwwTWBwg\\\n",
    "wMqvLMZHhHMvwLHjbvcjnnSBnvTQFn\\\n",
    "ttgJtRGJQctTZtZT\\\n",
    "CrZsJsPPZsGzwwsLwLmpwMDw\n",
    "\n",
    "The first rucksack contains the items vJrwpWtwJgWrhcsFMMfFFhFp, which means its first compartment contains the items vJrwpWtwJgWr, while the second compartment contains the items hcsFMMfFFhFp. The only item type that appears in both compartments is lowercase p.\\\n",
    "The second rucksack's compartments contain jqHRNqRjqzjGDLGL and rsFMfFZSrLrFZsSL. The only item type that appears in both compartments is uppercase L.\\\n",
    "The third rucksack's compartments contain PmmdzqPrV and vPwwTWBwg; the only common item type is uppercase P.\\\n",
    "The fourth rucksack's compartments only share item type v.\\\n",
    "The fifth rucksack's compartments only share item type t.\\\n",
    "The sixth rucksack's compartments only share item type s.\n",
    "\n",
    "To help prioritize item rearrangement, every item type can be converted to a priority:\n",
    "\n",
    "Lowercase item types a through z have priorities 1 through 26.\\\n",
    "Uppercase item types A through Z have priorities 27 through 52.\\\n",
    "In the above example, the priority of the item type that appears in both compartments of each rucksack is 16 (p), 38 (L), 42 (P), 22 (v), 20 (t), and 19 (s); the sum of these is 157.\n",
    "\n",
    "Find the item type that appears in both compartments of each rucksack. What is the sum of the priorities of those item types?"
   ]
  },
  {
   "cell_type": "code",
   "execution_count": 5,
   "id": "bae5b805",
   "metadata": {},
   "outputs": [],
   "source": [
    "# read in the txt file with the \n",
    "rucks = pd.read_csv('data/rucksacks.txt', header=None)"
   ]
  },
  {
   "cell_type": "code",
   "execution_count": 70,
   "id": "449c3fdc",
   "metadata": {},
   "outputs": [],
   "source": [
    "def item_score(char):\n",
    "    \"\"\"\n",
    "    Takes in a character and returns a score.\n",
    "    Scoring rubric is as follows:\n",
    "    Lowercase item types a through z have priorities 1 through 26.\n",
    "    Uppercase item types A through Z have priorities 27 through 52.\n",
    "    \n",
    "    Parameters\n",
    "    ----------\n",
    "    char: string\n",
    "                A string containing the character to be scored\n",
    "    \n",
    "    Returns\n",
    "    -------\n",
    "    score: int\n",
    "                The score value of the character\n",
    "    \n",
    "                \n",
    "    \"\"\"\n",
    "    \n",
    "    assert char.isalpha() and len(char) == 1, 'Not a single letter!'\n",
    "    \n",
    "    # string of alphabet used to create score (based on index)\n",
    "    alpha = 'abcdefghijklmnopqrstuvwxyz'\n",
    "    \n",
    "    # indicator of case \n",
    "    case = 0\n",
    "    \n",
    "    # if upper case, need to add 26 to the score\n",
    "    if char.isupper():\n",
    "        case = 26 \n",
    "        \n",
    "    # calculate score based on the index (plus 1 - for 0 indexing)\n",
    "    # and the case offset \n",
    "    score = case+(alpha.index(char.lower())+1) \n",
    "    \n",
    "    return score"
   ]
  },
  {
   "cell_type": "code",
   "execution_count": 78,
   "id": "654a5114",
   "metadata": {},
   "outputs": [],
   "source": [
    "def rucksack_priority(rucks):\n",
    "    \"\"\"\n",
    "    Find the characters that appears in both halves of the string.\n",
    "    In other words, find the item (encoded to a letter) that appears\n",
    "    in both rucksack pockets (halves of the string). Then returns \n",
    "    the priority score, calculated in the item_score function, of all\n",
    "    the mutually appearing items.\n",
    "    \n",
    "    Parameters\n",
    "    ----------\n",
    "    rucks: Pandas Series\n",
    "                A Pandas Series containing the strings for each elf's \n",
    "                rucksack contents. \n",
    "                \n",
    "    Returns\n",
    "    -------\n",
    "    total: int\n",
    "                The total score for all double appearing items.\n",
    "    \n",
    "                \n",
    "    \"\"\"\n",
    "    \n",
    "    # initialising tally score \n",
    "    total = 0\n",
    "    \n",
    "    # loop over all strings\n",
    "    for i in rucks:\n",
    "        # find string length\n",
    "        half_items = int(len(i)/2)\n",
    "        \n",
    "        # find characters that appears in both lists\n",
    "        both = list(set(i[:half_items]).intersection(set(i[half_items:])))[0]\n",
    "\n",
    "        # add item score to total tally\n",
    "        total += item_score(both)\n",
    "        \n",
    "    return total"
   ]
  },
  {
   "cell_type": "code",
   "execution_count": 79,
   "id": "c53549e0",
   "metadata": {},
   "outputs": [
    {
     "data": {
      "text/plain": [
       "8252"
      ]
     },
     "execution_count": 79,
     "metadata": {},
     "output_type": "execute_result"
    }
   ],
   "source": [
    "rucksack_priority(rucks[0])"
   ]
  },
  {
   "cell_type": "markdown",
   "id": "502136d3",
   "metadata": {},
   "source": [
    "## Question 2\n",
    "\n",
    "As you finish identifying the misplaced items, the Elves come to you with another issue.\n",
    "\n",
    "For safety, the Elves are divided into groups of three. Every Elf carries a badge that identifies their group. For efficiency, within each group of three Elves, the badge is the only item type carried by all three Elves. That is, if a group's badge is item type B, then all three Elves will have item type B somewhere in their rucksack, and at most two of the Elves will be carrying any other item type.\n",
    "\n",
    "The problem is that someone forgot to put this year's updated authenticity sticker on the badges. All of the badges need to be pulled out of the rucksacks so the new authenticity stickers can be attached.\n",
    "\n",
    "Additionally, nobody wrote down which item type corresponds to each group's badges. The only way to tell which item type is the right one is by finding the one item type that is common between all three Elves in each group.\n",
    "\n",
    "Every set of three lines in your list corresponds to a single group, but each group can have a different badge item type. So, in the above example, the first group's rucksacks are the first three lines:\n",
    "\n",
    "vJrwpWtwJgWrhcsFMMfFFhFp/\n",
    "jqHRNqRjqzjGDLGLrsFMfFZSrLrFZsSL/\n",
    "PmmdzqPrVvPwwTWBwg/\n",
    "And the second group's rucksacks are the next three lines:\n",
    "\n",
    "wMqvLMZHhHMvwLHjbvcjnnSBnvTQFn/\n",
    "ttgJtRGJQctTZtZT/\n",
    "CrZsJsPPZsGzwwsLwLmpwMDw/\n",
    "In the first group, the only item type that appears in all three rucksacks is lowercase r; this must be their badges. In the second group, their badge item type must be Z.\n",
    "\n",
    "Priorities for these items must still be found to organize the sticker attachment efforts: here, they are 18 (r) for the first group and 52 (Z) for the second group. The sum of these is 70.\n",
    "\n",
    "Find the item type that corresponds to the badges of each three-Elf group. What is the sum of the priorities of those item types?\n",
    "\n"
   ]
  },
  {
   "cell_type": "code",
   "execution_count": 60,
   "id": "a88c4f7c",
   "metadata": {},
   "outputs": [],
   "source": [
    "def teams(rucks):\n",
    "    \"\"\"\n",
    "    Finds the items that appears in the 3 consecutive backpack\n",
    "    groupings, and then returns the priority score all of these.\n",
    "    \n",
    "    Parameters\n",
    "    ----------\n",
    "    rucks: Pandas Series\n",
    "                Series containing all the elves backpack strings\n",
    "                \n",
    "    Returns\n",
    "    -------\n",
    "    total_priority: int\n",
    "                The total priority score for all mutual items\n",
    "    \"\"\"\n",
    "    \n",
    "    total_priority = 0 \n",
    "\n",
    "    for i in range(0, len(rucks), 3):\n",
    "        l1 = set(list(rucks[0][i]))\n",
    "        l2 = set(list(rucks[0][i+1]))\n",
    "        l3 = set(list(rucks[0][i+2]))\n",
    "        \n",
    "        item = list(l1.intersection(l2.intersection(l3)))[0]\n",
    "        \n",
    "        total_priority += item_score(item)\n",
    "        \n",
    "    return total_priority\n",
    "    "
   ]
  },
  {
   "cell_type": "code",
   "execution_count": 62,
   "id": "5aa47eeb",
   "metadata": {},
   "outputs": [
    {
     "data": {
      "text/plain": [
       "2828"
      ]
     },
     "execution_count": 62,
     "metadata": {},
     "output_type": "execute_result"
    }
   ],
   "source": [
    "teams(rucks)"
   ]
  }
 ],
 "metadata": {
  "kernelspec": {
   "display_name": "Python 3 (ipykernel)",
   "language": "python",
   "name": "python3"
  },
  "language_info": {
   "codemirror_mode": {
    "name": "ipython",
    "version": 3
   },
   "file_extension": ".py",
   "mimetype": "text/x-python",
   "name": "python",
   "nbconvert_exporter": "python",
   "pygments_lexer": "ipython3",
   "version": "3.9.12"
  }
 },
 "nbformat": 4,
 "nbformat_minor": 5
}

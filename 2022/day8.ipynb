{
 "cells": [
  {
   "cell_type": "markdown",
   "id": "86af1dc5",
   "metadata": {},
   "source": [
    "# Advent of Code - Day 8: Treetop Tree House"
   ]
  },
  {
   "cell_type": "code",
   "execution_count": 146,
   "id": "99ce64fd",
   "metadata": {},
   "outputs": [],
   "source": [
    "import numpy as np\n",
    "import pandas as pd"
   ]
  },
  {
   "cell_type": "markdown",
   "id": "e1aaaa34",
   "metadata": {},
   "source": [
    "## Question 1\n",
    "The expedition comes across a peculiar patch of tall trees all planted carefully in a grid. The Elves explain that a previous expedition planted these trees as a reforestation effort. Now, they're curious if this would be a good location for a tree house.\n",
    "\n",
    "First, determine whether there is enough tree cover here to keep a tree house hidden. To do this, you need to count the number of trees that are visible from outside the grid when looking directly along a row or column.\n",
    "\n",
    "The Elves have already launched a quadcopter to generate a map with the height of each tree (your puzzle input). For example:\n",
    "\n",
    "30373\\\n",
    "25512\\\n",
    "65332\\\n",
    "33549\\\n",
    "35390\\\n",
    "Each tree is represented as a single digit whose value is its height, where 0 is the shortest and 9 is the tallest.\n",
    "\n",
    "A tree is visible if all of the other trees between it and an edge of the grid are shorter than it. Only consider trees in the same row or column; that is, only look up, down, left, or right from any given tree.\n",
    "\n",
    "All of the trees around the edge of the grid are visible - since they are already on the edge, there are no trees to block the view. In this example, that only leaves the interior nine trees to consider:\n",
    "\n",
    "The top-left 5 is visible from the left and top. (It isn't visible from the right or bottom since other trees of height 5 are in the way.)\n",
    "The top-middle 5 is visible from the top and right.\n",
    "The top-right 1 is not visible from any direction; for it to be visible, there would need to only be trees of height 0 between it and an edge.\n",
    "The left-middle 5 is visible, but only from the right.\n",
    "The center 3 is not visible from any direction; for it to be visible, there would need to be only trees of at most height 2 between it and an edge.\n",
    "The right-middle 3 is visible from the right.\n",
    "In the bottom row, the middle 5 is visible, but the 3 and 4 are not.\n",
    "With 16 trees visible on the edge and another 5 visible in the interior, a total of 21 trees are visible in this arrangement.\n",
    "\n",
    "Consider your map; how many trees are visible from outside the grid?\n",
    "\n"
   ]
  },
  {
   "cell_type": "code",
   "execution_count": 147,
   "id": "8c84faf5",
   "metadata": {},
   "outputs": [],
   "source": [
    "# open the file for reading\n",
    "tree_reader = open('data/forest.txt', 'r')\n",
    "\n",
    "# initialise forest grid (a 2d array)\n",
    "forest = []\n",
    "\n",
    "for row in tree_reader:\n",
    "    forest.append([int(x) for x in list(str(row).strip('\\n'))])"
   ]
  },
  {
   "cell_type": "code",
   "execution_count": 148,
   "id": "3a713370",
   "metadata": {},
   "outputs": [],
   "source": [
    "def seen_trees(forest):\n",
    "    \n",
    "    seen = 0\n",
    "    for i in range(len(forest)):\n",
    "        for j in range(len(forest[0])):\n",
    "            tree = forest[i][j]\n",
    "            \n",
    "            # check if on top or bottom row\n",
    "            if (i == 0) or (i == len(forest)-1) or (j == 0) or (j == len(forest[0])-1):\n",
    "                seen += 1 \n",
    "                \n",
    "            # checking along the rows of the forest (along lists)\n",
    "            elif (tree > max(forest[i][0:j])) or (tree > max(forest[i][j+1:])):\n",
    "                seen += 1 \n",
    "            \n",
    "            # check along columns of forest \n",
    "            elif (tree > max([col[j] for col in forest[:i]])) or (tree > max([col[j] for col in forest[i+1:]])):\n",
    "                seen += 1 \n",
    "                \n",
    "    return seen "
   ]
  },
  {
   "cell_type": "code",
   "execution_count": 149,
   "id": "703a48fe",
   "metadata": {},
   "outputs": [
    {
     "data": {
      "text/plain": [
       "1851"
      ]
     },
     "execution_count": 149,
     "metadata": {},
     "output_type": "execute_result"
    }
   ],
   "source": [
    "seen_trees(forest)"
   ]
  },
  {
   "cell_type": "markdown",
   "id": "2e79dc42",
   "metadata": {},
   "source": [
    "## Question 2\n",
    "\n",
    "Content with the amount of tree cover available, the Elves just need to know the best spot to build their tree house: they would like to be able to see a lot of trees.\n",
    "\n",
    "To measure the viewing distance from a given tree, look up, down, left, and right from that tree; stop if you reach an edge or at the first tree that is the same height or taller than the tree under consideration. (If a tree is right on the edge, at least one of its viewing distances will be zero.)\n",
    "\n",
    "The Elves don't care about distant trees taller than those found by the rules above; the proposed tree house has large eaves to keep it dry, so they wouldn't be able to see higher than the tree house anyway.\n",
    "\n",
    "In the example above, consider the middle 5 in the second row:\n",
    "\n",
    "30373\\\n",
    "25512\\\n",
    "65332\\\n",
    "33549\\\n",
    "35390\\\n",
    "Looking up, its view is not blocked; it can see 1 tree (of height 3).\n",
    "Looking left, its view is blocked immediately; it can see only 1 tree (of height 5, right next to it).\n",
    "Looking right, its view is not blocked; it can see 2 trees.\n",
    "Looking down, its view is blocked eventually; it can see 2 trees (one of height 3, then the tree of height 5 that blocks its view).\n",
    "A tree's scenic score is found by multiplying together its viewing distance in each of the four directions. For this tree, this is 4 (found by multiplying 1 * 1 * 2 * 2).\n",
    "\n",
    "However, you can do even better: consider the tree of height 5 in the middle of the fourth row:\n",
    "\n",
    "30373\\\n",
    "25512\\\n",
    "65332\\\n",
    "33549\\\n",
    "35390\\\n",
    "Looking up, its view is blocked at 2 trees (by another tree with a height of 5).\n",
    "Looking left, its view is not blocked; it can see 2 trees.\n",
    "Looking down, its view is also not blocked; it can see 1 tree.\n",
    "Looking right, its view is blocked at 2 trees (by a massive tree of height 9).\n",
    "This tree's scenic score is 8 (2 * 2 * 1 * 2); this is the ideal spot for the tree house.\n",
    "\n",
    "Consider each tree on your map. What is the highest scenic score possible for any tree?\n",
    "\n"
   ]
  },
  {
   "cell_type": "markdown",
   "id": "88f44c1c",
   "metadata": {},
   "source": [
    "### Discussion \n",
    "\n",
    "Because at least one of the view distances for the trees will be 0 for all edge trees, we do not need to calculate their scores (as they will all be 0). "
   ]
  },
  {
   "cell_type": "code",
   "execution_count": 190,
   "id": "3f1346f0",
   "metadata": {},
   "outputs": [],
   "source": [
    "def tree_score(forest):\n",
    "    \n",
    "    # initialise maximum score variable\n",
    "    max_score = 0 \n",
    "    \n",
    "    # loop all the non_internal rows\n",
    "    for i in range(1,len(forest)-1):\n",
    "        # loop all the non_internal columns \n",
    "        for j in range(1, len(forest[0])-1):\n",
    "            \n",
    "            tree = forest[i][j]\n",
    "            \n",
    "            # set current value of i,\n",
    "            curr_i = i\n",
    "            # set minimum of possible up (1, because we will not look at edge of forest)\n",
    "            up = 1\n",
    "            \n",
    "            # while next tree is small enough to look over add 1 and move current. \n",
    "            while curr_i > 1 and tree > forest[curr_i-1][j]:\n",
    "                up += 1 \n",
    "                curr_i -= 1 \n",
    "                \n",
    "            curr_i = i \n",
    "            down = 1\n",
    "            while curr_i < len(forest)-2 and tree > forest[curr_i+1][j]:\n",
    "                down += 1 \n",
    "                curr_i += 1 \n",
    "                \n",
    "            curr_j = j\n",
    "            left = 1\n",
    "            while  curr_j > 1 and tree > forest[i][curr_j-1]:\n",
    "                left += 1 \n",
    "                curr_j -= 1\n",
    "                \n",
    "                \n",
    "            curr_j = j\n",
    "            right = 1\n",
    "            while curr_j < len(forest[0])-2 and tree > forest[i][curr_j+1]:\n",
    "                right += 1\n",
    "                curr_j += 1 \n",
    "                \n",
    "            max_score = max(up*down*left*right, max_score)\n",
    "                \n",
    "    return max_score"
   ]
  },
  {
   "cell_type": "code",
   "execution_count": 191,
   "id": "a538ceba",
   "metadata": {
    "scrolled": false
   },
   "outputs": [
    {
     "data": {
      "text/plain": [
       "574080"
      ]
     },
     "execution_count": 191,
     "metadata": {},
     "output_type": "execute_result"
    }
   ],
   "source": [
    "tree_score(forest)"
   ]
  }
 ],
 "metadata": {
  "kernelspec": {
   "display_name": "Python 3 (ipykernel)",
   "language": "python",
   "name": "python3"
  },
  "language_info": {
   "codemirror_mode": {
    "name": "ipython",
    "version": 3
   },
   "file_extension": ".py",
   "mimetype": "text/x-python",
   "name": "python",
   "nbconvert_exporter": "python",
   "pygments_lexer": "ipython3",
   "version": "3.9.12"
  }
 },
 "nbformat": 4,
 "nbformat_minor": 5
}

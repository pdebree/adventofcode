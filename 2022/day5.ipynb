{
 "cells": [
  {
   "cell_type": "markdown",
   "id": "0aac022d",
   "metadata": {},
   "source": [
    "# Advent of Code - Day 5: Supply Stacks"
   ]
  },
  {
   "cell_type": "code",
   "execution_count": 1,
   "id": "c8644ccc",
   "metadata": {},
   "outputs": [],
   "source": [
    "import numpy as np\n",
    "import pandas as pd"
   ]
  },
  {
   "cell_type": "markdown",
   "id": "c1781306",
   "metadata": {},
   "source": [
    "## Question 1 \n",
    "\n",
    "The expedition can depart as soon as the final supplies have been unloaded from the ships. Supplies are stored in stacks of marked crates, but because the needed supplies are buried under many other crates, the crates need to be rearranged.\n",
    "\n",
    "The ship has a giant cargo crane capable of moving crates between stacks. To ensure none of the crates get crushed or fall over, the crane operator will rearrange them in a series of carefully-planned steps. After the crates are rearranged, the desired crates will be at the top of each stack.\n",
    "\n",
    "The Elves don't want to interrupt the crane operator during this delicate procedure, but they forgot to ask her which crate will end up where, and they want to be ready to unload them as soon as possible so they can embark.\n",
    "\n",
    "They do, however, have a drawing of the starting stacks of crates and the rearrangement procedure (your puzzle input). For example:\n",
    "\n",
    "1 N Z\\\n",
    "2 M C D\\\n",
    "3 P \n",
    "\n",
    "move 1 from 2 to 1\\\n",
    "move 3 from 1 to 3\\\n",
    "move 2 from 2 to 1\\\n",
    "move 1 from 1 to 2\\\n",
    "In this example, there are three stacks of crates. Stack 1 contains two crates: crate Z is on the bottom, and crate N is on top. Stack 2 contains three crates; from bottom to top, they are crates M, C, and D. Finally, stack 3 contains a single crate, P.\n",
    "\n",
    "Then, the rearrangement procedure is given. In each step of the procedure, a quantity of crates is moved from one stack to a different stack. In the first step of the above rearrangement procedure, one crate is moved from stack 2 to stack 1, resulting in this configuration:\n",
    "\n",
    "\n",
    " 1 Z N D\\\n",
    " 2 M C\\\n",
    " 3 P\n",
    " \n",
    " \n",
    "In the second step, three crates are moved from stack 1 to stack 3. Crates are moved one at a time, so the first crate to be moved (D) ends up below the second and third crates:\n",
    "\n",
    " 1\\\n",
    " 2 M C\\\n",
    " 3 P D N Z\n",
    " \n",
    " \n",
    "Then, both crates are moved from stack 2 to stack 1. Again, because crates are moved one at a time, crate C ends up below crate M:\n",
    "\n",
    " \n",
    "1 C M\\\n",
    "2\\\n",
    "3 P D N Z \n",
    "\n",
    " \n",
    "Finally, one crate is moved from stack 1 to stack 2:\n",
    " \n",
    " 1 C\\\n",
    " 2 M\\\n",
    " 3 P D N Z\n",
    " \n",
    " \n",
    "The Elves just need to know which crate will end up on top of each stack; in this example, the top crates are C in stack 1, M in stack 2, and Z in stack 3, so you should combine these together and give the Elves the message CMZ.\n",
    "\n",
    "After the rearrangement procedure completes, what crate ends up on top of each stack?\n",
    "\n",
    "\n",
    "Starting Arrangement:\n",
    " \n",
    " 1 G F V H P S\\\n",
    " 2 G J F B V D Z M\\\n",
    " 3 G M L J N\\\n",
    " 4 N G Z V D W P\\\n",
    " 5 V R C B\\\n",
    " 6 V R S M P W L Z\\\n",
    " 7 T H P\\\n",
    " 8 Q R S N C H Z V\n",
    " 9 F L G P V Q J \n",
    " \n",
    " "
   ]
  },
  {
   "cell_type": "markdown",
   "id": "351fef9a",
   "metadata": {},
   "source": [
    "## Discussion\n",
    "Reading the text file into a pandas DataFrame will allow for easier manipulation to put the distinct inputs (number of blocks, start stack and end stack) into their own columns. This will allow for much easier looping. Using whitespace as a delimiter ensured the data was read into 6 columns, three with the words and three with integers. This meant I could easily drop the words column and the integers were already in the correct datatype. These columns were renamed for readability in the function. "
   ]
  },
  {
   "cell_type": "code",
   "execution_count": 176,
   "id": "8ca96e00",
   "metadata": {},
   "outputs": [],
   "source": [
    "# read in CSV file to a pandas DataFrame (using whitespace as a delimiter)\n",
    "moves = pd.read_csv('data/stackingmoves.txt', header=None, delim_whitespace=True)\n",
    "# drop the columns with the words ('move', 'from', 'to'), so that only the integer columns remain\n",
    "moves = moves.drop(columns=[0, 2, 4])\n",
    "# rename colums for easier use within the function\n",
    "moves = moves.rename(columns={1:'num', 3:'start', 5:'end'})"
   ]
  },
  {
   "cell_type": "markdown",
   "id": "16745b93",
   "metadata": {},
   "source": [
    "Using a 2D array for the stacks meant I could easily move parts of lists to other lists and loop over the different stacks in the array"
   ]
  },
  {
   "cell_type": "code",
   "execution_count": 170,
   "id": "cfc05376",
   "metadata": {},
   "outputs": [],
   "source": [
    "# create a 2D array for the current state of the stacks\n",
    "piles = [['G', 'F', 'V', 'H', 'P', 'S'],\n",
    "['G', 'J', 'F', 'B', 'V', 'D', 'Z', 'M'],\n",
    "['G', 'M', 'L', 'J', 'N'],\n",
    "['N', 'G', 'Z', 'V', 'D', 'W', 'P'],\n",
    "['V', 'R', 'C', 'B'],\n",
    "['V', 'R', 'S', 'M', 'P', 'W', 'L', 'Z'],\n",
    "['T', 'H', 'P'],\n",
    "['Q', 'R', 'S', 'N', 'C', 'H', 'Z', 'V'],\n",
    "['F', 'L', 'G', 'P', 'V', 'Q', 'J']]"
   ]
  },
  {
   "cell_type": "code",
   "execution_count": 179,
   "id": "fff0f770",
   "metadata": {},
   "outputs": [],
   "source": [
    "def CrateMover(piles=piles, moves=moves, machine_number='9000'):\n",
    "    \"\"\"\n",
    "    Moves crates from stack to stack, based on passed in instructions. \n",
    "    \n",
    "    Parameters:\n",
    "    -----------\n",
    "    piles: 2D Array \n",
    "                A matrix holding the stacks and the contents of the stacks.\n",
    "                \n",
    "    moves: Pandas DataFrame\n",
    "                A dataframe containing the moves needed to be made \n",
    "    \n",
    "    machine_number: string\n",
    "                A string of the machine number, which designates the stacking\n",
    "                    order\n",
    "    \n",
    "    Returns \n",
    "    -------\n",
    "    The string created by concatenating the top element of each stack \n",
    "    \n",
    "    \"\"\"\n",
    "    \n",
    "    \n",
    "    # create a copy of the stacks, so that the original array is not changed\n",
    "    stacks = [pile[:] for pile in piles]\n",
    "    \n",
    "    for i in range(len(moves)):\n",
    "        # the number of items to move\n",
    "        number = moves.loc[i, 'num']\n",
    "        \n",
    "        # the start stack number, reindexed\n",
    "        start = moves.loc[i, 'start'] - 1\n",
    "        # the end stack number, reindexed\n",
    "        end = moves.loc[i, 'end'] - 1 \n",
    "        \n",
    "        if machine_number == '9000':\n",
    "            # the items to move\n",
    "            to_move = list(reversed(stacks[start][-number:]))\n",
    "            \n",
    "        elif machine_number == '9001':\n",
    "            to_move = stacks[start][-number:]\n",
    "\n",
    "        # add items to end (top) of new stack\n",
    "        stacks[end].extend(to_move)\n",
    "        \n",
    "        # remove items from end (top) of old stack\n",
    "        stacks[start] = stacks[start][:-number]\n",
    "        \n",
    "        \n",
    "    return ''.join([stack[-1] if len(stack) > 0 else '' for stack in stacks])"
   ]
  },
  {
   "cell_type": "code",
   "execution_count": 173,
   "id": "011e396e",
   "metadata": {},
   "outputs": [
    {
     "data": {
      "text/plain": [
       "'FCVRLMVQP'"
      ]
     },
     "execution_count": 173,
     "metadata": {},
     "output_type": "execute_result"
    }
   ],
   "source": [
    "CrateMover()"
   ]
  },
  {
   "cell_type": "markdown",
   "id": "f4bb7b39",
   "metadata": {},
   "source": [
    "## Question 2 \n",
    "\n",
    "As you watch the crane operator expertly rearrange the crates, you notice the process isn't following your prediction.\n",
    "\n",
    "Some mud was covering the writing on the side of the crane, and you quickly wipe it away. The crane isn't a CrateMover 9000 - it's a CrateMover 9001.\n",
    "\n",
    "The CrateMover 9001 is notable for many new and exciting features: air conditioning, leather seats, an extra cup holder, and the ability to pick up and move multiple crates at once.\n",
    "\n",
    "Again considering the example above, the crates begin in the same configuration:\n",
    "\n",
    "1 Z N\\\n",
    "2 M C D\\\n",
    "3 P \n",
    "\n",
    "Moving a single crate from stack 2 to stack 1 behaves the same as before:\n",
    "\n",
    "1 Z N D\\\n",
    "2 M C\\\n",
    "3 P \n",
    "\n",
    " \n",
    "However, the action of moving three crates from stack 1 to stack 3 means that those three moved crates stay in the same order, resulting in this new configuration:\n",
    "\n",
    " \n",
    "1\\\n",
    "2 M C\\\n",
    "3 P Z N D \n",
    " \n",
    " \n",
    "Next, as both crates are moved from stack 2 to stack 1, they retain their order as well:\n",
    "\n",
    "1 M C\\\n",
    "2\\\n",
    "3 P Z N D \n",
    "\n",
    "Finally, a single crate is still moved from stack 1 to stack 2, but now it's crate C that gets moved:\n",
    "\n",
    "1 M\\\n",
    "2 C\\\n",
    "3 P Z N D \n",
    "\n",
    "In this example, the CrateMover 9001 has put the crates in a totally different order: MCD.\n",
    "\n",
    "Before the rearrangement process finishes, update your simulation so that the Elves know where they should stand to be ready to unload the final supplies. After the rearrangement procedure completes, what crate ends up on top of each stack?\n"
   ]
  },
  {
   "cell_type": "markdown",
   "id": "c414eae3",
   "metadata": {},
   "source": [
    "### Discussion \n",
    "To answer this question I made a simple change to the stacking function above. Adding a machine number parameter allowed us to control, based on the input, which order of stacking should be used. For the CrateMover 9001 no list reversing was needed, so I only added the crates (sub-list) to the end of the new stack"
   ]
  },
  {
   "cell_type": "code",
   "execution_count": 175,
   "id": "a97d30fa",
   "metadata": {},
   "outputs": [
    {
     "data": {
      "text/plain": [
       "'RWLWGJGFD'"
      ]
     },
     "execution_count": 175,
     "metadata": {},
     "output_type": "execute_result"
    }
   ],
   "source": [
    "CrateMover(piles, machine_number='9001')"
   ]
  }
 ],
 "metadata": {
  "kernelspec": {
   "display_name": "Python 3 (ipykernel)",
   "language": "python",
   "name": "python3"
  },
  "language_info": {
   "codemirror_mode": {
    "name": "ipython",
    "version": 3
   },
   "file_extension": ".py",
   "mimetype": "text/x-python",
   "name": "python",
   "nbconvert_exporter": "python",
   "pygments_lexer": "ipython3",
   "version": "3.9.12"
  }
 },
 "nbformat": 4,
 "nbformat_minor": 5
}

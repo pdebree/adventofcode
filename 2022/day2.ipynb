{
 "cells": [
  {
   "cell_type": "markdown",
   "id": "aab269cc",
   "metadata": {},
   "source": [
    "# Advent of Code - Day 2"
   ]
  },
  {
   "cell_type": "code",
   "execution_count": 131,
   "id": "326e08b6",
   "metadata": {},
   "outputs": [],
   "source": [
    "import numpy as np\n",
    "import pandas as pd"
   ]
  },
  {
   "cell_type": "markdown",
   "id": "af7408ef",
   "metadata": {},
   "source": [
    "# Question 1 \n",
    "The Elves begin to set up camp on the beach. To decide whose tent gets to be closest to the snack storage, a giant Rock Paper Scissors tournament is already in progress.\n",
    "\n",
    "Rock Paper Scissors is a game between two players. Each game contains many rounds; in each round, the players each simultaneously choose one of Rock, Paper, or Scissors using a hand shape. Then, a winner for that round is selected: Rock defeats Scissors, Scissors defeats Paper, and Paper defeats Rock. If both players choose the same shape, the round instead ends in a draw.\n",
    "\n",
    "Appreciative of your help yesterday, one Elf gives you an encrypted strategy guide (your puzzle input) that they say will be sure to help you win. \"The first column is what your opponent is going to play: A for Rock, B for Paper, and C for Scissors. The second column--\" Suddenly, the Elf is called away to help with someone's tent.\n",
    "\n",
    "The second column, you reason, must be what you should play in response: X for Rock, Y for Paper, and Z for Scissors. Winning every time would be suspicious, so the responses must have been carefully chosen.\n",
    "\n",
    "The winner of the whole tournament is the player with the highest score. Your total score is the sum of your scores for each round. The score for a single round is the score for the shape you selected (1 for Rock, 2 for Paper, and 3 for Scissors) plus the score for the outcome of the round (0 if you lost, 3 if the round was a draw, and 6 if you won).\n",
    "\n",
    "Since you can't be sure if the Elf is trying to help you or trick you, you should calculate the score you would get if you were to follow the strategy guide.\n",
    "\n",
    "For example, suppose you were given the following strategy guide:\n",
    "\n",
    "A Y\\\n",
    "B X\\\n",
    "C Z\n",
    "\n",
    "This strategy guide predicts and recommends the following:\n",
    "\n",
    "In the first round, your opponent will choose Rock (A), and you should choose Paper (Y). This ends in a win for you with a score of 8 (2 because you chose Paper + 6 because you won).\n",
    "In the second round, your opponent will choose Paper (B), and you should choose Rock (X). This ends in a loss for you with a score of 1 (1 + 0).\n",
    "The third round is a draw with both players choosing Scissors, giving you a score of 3 + 3 = 6.\n",
    "In this example, if you were to follow the strategy guide, you would get a total score of 15 (8 + 1 + 6).\n",
    "\n",
    "What would your total score be if everything goes exactly according to your strategy guide?\n",
    "\n",
    "To begin, get your puzzle input."
   ]
  },
  {
   "cell_type": "code",
   "execution_count": 169,
   "id": "4066ff1c",
   "metadata": {},
   "outputs": [],
   "source": [
    "# read in the text file\n",
    "rps = pd.read_csv('data/rockpapersci.txt', header=None)\n",
    "strat = pd.DataFrame()\n",
    "# create a pandas dataframe with the data split into the two columns\n",
    "strat[['opp', 'move']] = rps[0].str.split(\" \", expand=True)\n",
    "\n",
    "# encode the value of the move to the actual move (this is the strategy outlined)\n",
    "strat['dec1'] = strat['move'].map({'X':1, 'Y':2, 'Z':3})\n",
    "\n",
    "# enocde the opponents move to the value as well\n",
    "strat['opp'] = strat['opp'].map({'A':1, 'B':2, 'C':3})"
   ]
  },
  {
   "cell_type": "code",
   "execution_count": 170,
   "id": "1a203b05",
   "metadata": {},
   "outputs": [],
   "source": [
    "def score_decode(vals, other='opp', user='dec1'):\n",
    "    \"\"\"\n",
    "    Calculate the score of the current user in a game of rock paper scissors. \n",
    "    \n",
    "    Takes in a pandas dataframe with two columns, one with the moves of an opposing player \n",
    "    (encoded to its value) and one with the current player. Return the calculate score. \n",
    "    \n",
    "    Moves have the following value, which contributes to the score:\n",
    "    \n",
    "    1 - Rock\n",
    "    2 - Paper\n",
    "    3 - Scissors\n",
    "    \n",
    "    Points for Success:\n",
    "    0 - Loss\n",
    "    3 - Draw\n",
    "    6 - Win\n",
    "    \n",
    "    Rules:\n",
    "    Rock beats Scissors, Scissors beats Paper, Paper beats Rock\n",
    "    \n",
    "    Parameters\n",
    "    ----------\n",
    "    vals : Pandas DataFrame\n",
    "            A dataframe with the moves for both players\n",
    "            \n",
    "    other : string\n",
    "            The name of the column with the opposing player's move\n",
    "            \n",
    "    user : string \n",
    "            The name of the column with the current player's move\n",
    "    \n",
    "    Returns\n",
    "    -------\n",
    "    score : int\n",
    "            The value of the score caluculated for the current user\n",
    "    \n",
    "    \n",
    "    \"\"\"\n",
    "    \n",
    "    # initial score tally\n",
    "    score = 0\n",
    "    \n",
    "    # loop over every row of pandas dataframe\n",
    "    for i in range(len(strat)):\n",
    "        \n",
    "        # if both players get the same score add 3 \n",
    "        if vals[other][i] == vals[user][i]:\n",
    "            score += 3 \n",
    "            \n",
    "        # if current player wins they get a higher score\n",
    "        if ((vals[other][i] == 3) and (vals[user][i] == 1)) or (vals[other][i]+1 == vals[user][i]):\n",
    "            score += 6    \n",
    "        \n",
    "        # add the value of the move to the total \n",
    "        score += vals[user][i]\n",
    "   \n",
    "    return score"
   ]
  },
  {
   "cell_type": "code",
   "execution_count": 171,
   "id": "28e0213a",
   "metadata": {},
   "outputs": [
    {
     "data": {
      "text/plain": [
       "14069"
      ]
     },
     "execution_count": 171,
     "metadata": {},
     "output_type": "execute_result"
    }
   ],
   "source": [
    "score(strat)"
   ]
  },
  {
   "cell_type": "markdown",
   "id": "0ef935f8",
   "metadata": {},
   "source": [
    "# Question 2 \n",
    "\n",
    "The Elf finishes helping with the tent and sneaks back over to you. \"Anyway, the second column says how the round needs to end: X means you need to lose, Y means you need to end the round in a draw, and Z means you need to win. Good luck!\"\n",
    "\n",
    "The total score is still calculated in the same way, but now you need to figure out what shape to choose so the round ends as indicated. The example above now goes like this:\n",
    "\n",
    "In the first round, your opponent will choose Rock (A), and you need the round to end in a draw (Y), so you also choose Rock. This gives you a score of 1 + 3 = 4.\n",
    "In the second round, your opponent will choose Paper (B), and you choose Rock so you lose (X) with a score of 1 + 0 = 1.\n",
    "In the third round, you will defeat your opponent's Scissors with Rock for a score of 1 + 6 = 7.\n",
    "Now that you're correctly decrypting the ultra top secret strategy guide, you would get a total score of 12.\n",
    "\n",
    "Following the Elf's instructions for the second column, what would your total score be if everything goes exactly according to your strategy guide?"
   ]
  },
  {
   "cell_type": "code",
   "execution_count": 172,
   "id": "a9dca8a5",
   "metadata": {},
   "outputs": [],
   "source": [
    "def score_move_calc(vals, other, move):\n",
    "    \"\"\"\n",
    "    Calculates the move that the current user show make, based off of a set strategy.\n",
    "    Uses the other player's move to calculate the strategy based on the following \n",
    "    instructions (which are passed in using the move parameter):\n",
    "    \n",
    "    X - Lose\n",
    "    Y - Draw\n",
    "    Z - Win \n",
    "    \n",
    "    \n",
    "    Moves have the following value, which contributes to the score:\n",
    "    \n",
    "    1 - Rock\n",
    "    2 - Paper\n",
    "    3 - Scissors\n",
    "    \n",
    "    Points for Success:\n",
    "    0 - Loss\n",
    "    3 - Draw\n",
    "    6 - Win\n",
    "    \n",
    "    Rules:\n",
    "    Rock beats Scissors, Scissors beats Paper, Paper beats Rock\n",
    "    \n",
    "    Parameters\n",
    "    ----------\n",
    "    vals : Pandas DataFrame\n",
    "            A dataframe with the moves for both players\n",
    "            \n",
    "    other : string\n",
    "            The name of the column with the opposing player's move\n",
    "            \n",
    "    move : string \n",
    "            The name of the column with the strategy\n",
    "    \n",
    "    Returns\n",
    "    -------\n",
    "    vals : Pandas DataFrame\n",
    "            The updated dataframe (with the strategy implemented into a column named dec2)\n",
    "    \n",
    "    \"\"\"\n",
    "\n",
    "    dec2 = []\n",
    "    for i in range(len(vals)):\n",
    "        if vals[move][i] == 'X':\n",
    "            to_do = vals[other][i] - 1 \n",
    "            if to_do == 0:\n",
    "                to_do = 3\n",
    "            dec2.append(to_do)\n",
    "            \n",
    "        elif vals[move][i] == 'Y':\n",
    "            dec2.append(vals[other][i])\n",
    "            \n",
    "        elif vals[move][i] == 'Z':\n",
    "            to_do = vals[other][i] + 1\n",
    "            if to_do == 4:\n",
    "                to_do = 1\n",
    "            dec2.append(to_do)\n",
    "\n",
    "    vals['dec2'] = dec2 \n",
    "    return vals\n",
    "    "
   ]
  },
  {
   "cell_type": "code",
   "execution_count": 173,
   "id": "ad311795",
   "metadata": {
    "scrolled": false
   },
   "outputs": [],
   "source": [
    "# create the moves for the current user based on the passed in strategy\n",
    "strat = score_move_calc(strat, other='opp', move='move')"
   ]
  },
  {
   "cell_type": "code",
   "execution_count": 174,
   "id": "6a61972a",
   "metadata": {},
   "outputs": [
    {
     "data": {
      "text/plain": [
       "12411"
      ]
     },
     "execution_count": 174,
     "metadata": {},
     "output_type": "execute_result"
    }
   ],
   "source": [
    "score_decode(strat, 'opp', 'dec2')"
   ]
  }
 ],
 "metadata": {
  "kernelspec": {
   "display_name": "Python 3 (ipykernel)",
   "language": "python",
   "name": "python3"
  },
  "language_info": {
   "codemirror_mode": {
    "name": "ipython",
    "version": 3
   },
   "file_extension": ".py",
   "mimetype": "text/x-python",
   "name": "python",
   "nbconvert_exporter": "python",
   "pygments_lexer": "ipython3",
   "version": "3.9.12"
  }
 },
 "nbformat": 4,
 "nbformat_minor": 5
}
